{
 "cells": [
  {
   "cell_type": "code",
   "execution_count": 7,
   "id": "5f5a9bd5",
   "metadata": {},
   "outputs": [
    {
     "name": "stdout",
     "output_type": "stream",
     "text": [
      "For the style '11 LINUL6 6898048G2-AW22':\n",
      "Predicted Best Factory: CMCD\n",
      "Predicted Team: SERIYUNKA3\n",
      "Predicted Most Common Defect: 599.21 - HIGH LOW\n"
     ]
    },
    {
     "data": {
      "text/plain": [
       "['defect_model.joblib']"
      ]
     },
     "execution_count": 7,
     "metadata": {},
     "output_type": "execute_result"
    }
   ],
   "source": [
    "import pandas as pd\n",
    "from sklearn.model_selection import train_test_split\n",
    "from sklearn.ensemble import RandomForestClassifier\n",
    "from sklearn.preprocessing import OneHotEncoder\n",
    "from sklearn.compose import ColumnTransformer\n",
    "\n",
    "# Load the data from the CSV file\n",
    "df = pd.read_csv('Proddata.csv')\n",
    "\n",
    "# Extract relevant features (Style) and target variables (Factory, Team, Defect)\n",
    "X = df[['STYLE']]\n",
    "y_factory = df['FACTORY']\n",
    "y_team = df['TEAM']\n",
    "y_defect = df['DefectName']\n",
    "\n",
    "# One-hot encode the 'STYLE' column\n",
    "column_transformer = ColumnTransformer(\n",
    "    transformers=[('encoder', OneHotEncoder(), ['STYLE'])],\n",
    "    remainder='passthrough'\n",
    ")\n",
    "\n",
    "X_encoded = column_transformer.fit_transform(X)\n",
    "\n",
    "# Split the data into training and testing sets\n",
    "X_train, X_test, y_factory_train, y_factory_test, y_team_train, y_team_test, y_defect_train, y_defect_test = train_test_split(\n",
    "    X_encoded, y_factory, y_team, y_defect, test_size=0.2, random_state=42\n",
    ")\n",
    "\n",
    "# Create and train a RandomForestClassifier for Factory prediction\n",
    "factory_model = RandomForestClassifier(n_estimators=100, random_state=42)\n",
    "factory_model.fit(X_train, y_factory_train)\n",
    "\n",
    "# Create and train a RandomForestClassifier for Team prediction\n",
    "team_model = RandomForestClassifier(n_estimators=100, random_state=42)\n",
    "team_model.fit(X_train, y_team_train)\n",
    "\n",
    "# Create and train a RandomForestClassifier for Defect prediction\n",
    "defect_model = RandomForestClassifier(n_estimators=100, random_state=42)\n",
    "defect_model.fit(X_train, y_defect_train)\n",
    "\n",
    "# Make predictions\n",
    "style_to_predict = '11 LINUL6 6898048G2-AW22'\n",
    "style_input = column_transformer.transform(pd.DataFrame({'STYLE': [style_to_predict]}))\n",
    "predicted_factory = factory_model.predict(style_input)[0]\n",
    "predicted_team = team_model.predict(style_input)[0]\n",
    "predicted_defect = defect_model.predict(style_input)[0]\n",
    "\n",
    "# Print the predictions\n",
    "print(f\"For the style '{style_to_predict}':\")\n",
    "print(f\"Predicted Best Factory: {predicted_factory}\")\n",
    "print(f\"Predicted Team: {predicted_team}\")\n",
    "print(f\"Predicted Most Common Defect: {predicted_defect}\")\n",
    "\n",
    "# Save the models to files\n",
    "joblib.dump(factory_model, 'factory_model.joblib')\n",
    "joblib.dump(team_model, 'team_model.joblib')\n",
    "joblib.dump(defect_model, 'defect_model.joblib')\n"
   ]
  },
  {
   "cell_type": "code",
   "execution_count": 8,
   "id": "779cd157",
   "metadata": {},
   "outputs": [],
   "source": [
    "import pandas as pd\n",
    "\n",
    "# Load the data from the CSV file\n",
    "df = pd.read_csv('Proddata.csv')\n",
    "\n",
    "# Extract unique styles\n",
    "unique_styles = df['STYLE'].unique()\n",
    "\n",
    "# Create a DataFrame with unique styles\n",
    "unique_styles_df = pd.DataFrame({'STYLE': unique_styles})\n",
    "\n",
    "# Save the DataFrame to a new CSV file\n",
    "unique_styles_df.to_csv('unique_styles.csv', index=False)\n"
   ]
  },
  {
   "cell_type": "code",
   "execution_count": null,
   "id": "e6f157df",
   "metadata": {},
   "outputs": [],
   "source": []
  }
 ],
 "metadata": {
  "kernelspec": {
   "display_name": "Python 3 (ipykernel)",
   "language": "python",
   "name": "python3"
  },
  "language_info": {
   "codemirror_mode": {
    "name": "ipython",
    "version": 3
   },
   "file_extension": ".py",
   "mimetype": "text/x-python",
   "name": "python",
   "nbconvert_exporter": "python",
   "pygments_lexer": "ipython3",
   "version": "3.9.13"
  }
 },
 "nbformat": 4,
 "nbformat_minor": 5
}
