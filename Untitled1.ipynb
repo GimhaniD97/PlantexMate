{
 "cells": [
  {
   "cell_type": "code",
   "execution_count": 8,
   "id": "d0addae7",
   "metadata": {},
   "outputs": [],
   "source": [
    "import pandas as pd\n",
    "import numpy as np  # Import numpy\n",
    "\n",
    "# Load your dataset from a CSV file\n",
    "data = pd.read_csv('new_dataset_production.csv')\n",
    "\n",
    "# Replace non-numeric values (e.g., '-') with NaN\n",
    "data = data.replace('-', np.nan)\n",
    "\n",
    "# Define the columns you want to fill with 0\n",
    "columns_to_fill_with_0 = ['Total SMV', 'Avg Per Day', 'Actual Per Day', 'Defect Qty', 'Rejected Qty', 'Missing Qty']\n",
    "\n",
    "# Fill missing values in the specified columns with 0\n",
    "data[columns_to_fill_with_0] = data[columns_to_fill_with_0].fillna(0)\n",
    "\n",
    "# Save the filled DataFrame to a new CSV file\n",
    "data.to_csv('production_dataset_filled.csv', index=False)\n"
   ]
  },
  {
   "cell_type": "code",
   "execution_count": 6,
   "id": "44b170f2",
   "metadata": {},
   "outputs": [],
   "source": [
    "import pandas as pd\n",
    "\n",
    "# Load your dataset from the original CSV file\n",
    "data = pd.read_csv('production data.csv')\n",
    "\n",
    "# Select only the specified columns\n",
    "selected_columns = ['Module', 'Total SMV', 'Product Type', 'Avg Per Day', 'Actual Per Day', 'Defect Qty', 'Rejected Qty', 'Missing Qty']\n",
    "data = data[selected_columns]\n",
    "\n",
    "# Save the selected data to a new CSV file\n",
    "data.to_csv('new_dataset_production.csv', index=False)"
   ]
  },
  {
   "cell_type": "code",
   "execution_count": null,
   "id": "10f7027a",
   "metadata": {},
   "outputs": [],
   "source": []
  }
 ],
 "metadata": {
  "kernelspec": {
   "display_name": "Python 3 (ipykernel)",
   "language": "python",
   "name": "python3"
  },
  "language_info": {
   "codemirror_mode": {
    "name": "ipython",
    "version": 3
   },
   "file_extension": ".py",
   "mimetype": "text/x-python",
   "name": "python",
   "nbconvert_exporter": "python",
   "pygments_lexer": "ipython3",
   "version": "3.9.13"
  }
 },
 "nbformat": 4,
 "nbformat_minor": 5
}
