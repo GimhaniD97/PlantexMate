{
 "cells": [
  {
   "cell_type": "code",
   "execution_count": null,
   "id": "d814f630",
   "metadata": {},
   "outputs": [],
   "source": [
    "import numpy as np\n",
    "import pandas as pd\n",
    "import tensorflow as tf\n",
    "from sklearn.model_selection import train_test_split\n",
    "from sklearn.preprocessing import LabelEncoder\n",
    "from tensorflow.keras.models import Sequential\n",
    "from tensorflow.keras.layers import Embedding, LSTM, Dense\n",
    "\n",
    "# Load and preprocess your dataset\n",
    "data = pd.read_csv('new_dataset_filled.csv')\n",
    "\n",
    "# Encode product types and modules\n",
    "encoder_product_type = LabelEncoder()\n",
    "encoder_module = LabelEncoder()\n",
    "data['Product Type'] = encoder_product_type.fit_transform(data['Product Type'])\n",
    "data['Module'] = encoder_module.fit_transform(data['Module'])\n",
    "\n",
    "# Additional Features\n",
    "data['Defect_Rate'] = data['Defect Qty'] / data['Total SMV']\n",
    "data['Avg_Diff'] = data['Actual Per Day'] - data['Avg Per Day']\n",
    "data['Defect_Ratio'] = data['Defect Qty'] / data['Total SMV']\n",
    "\n",
    "# Split the data into features and labels\n",
    "X = data[['Product Type', 'Defect_Rate', 'Avg_Diff', 'Defect_Ratio']].values\n",
    "y = data['Module'].values\n",
    "\n",
    "# Split the data into training and testing sets\n",
    "X_train, X_test, y_train, y_test = train_test_split(X, y, test_size=0.2, random_state=42)\n",
    "\n",
    "# Define the number of unique product types and modules\n",
    "num_product_types = len(encoder_product_type.classes_)\n",
    "num_modules = len(encoder_module.classes_)\n",
    "\n",
    "# Build the RNN model\n",
    "model = Sequential()\n",
    "model.add(Embedding(input_dim=num_product_types, output_dim=32, input_length=1))\n",
    "model.add(LSTM(64))\n",
    "model.add(Dense(num_modules, activation='softmax'))\n",
    "\n",
    "# Compile the model\n",
    "model.compile(loss='sparse_categorical_crossentropy', optimizer='adam', metrics=['accuracy'])\n",
    "\n",
    "# Train the model\n",
    "model.fit(X_train, y_train, epochs=200, batch_size=64, validation_data=(X_test, y_test))\n",
    "\n",
    "# Evaluate the model\n",
    "test_loss, test_accuracy = model.evaluate(X_test, y_test)\n",
    "print(f'Test accuracy: {test_accuracy}')\n",
    "\n",
    "# Save the model for future use\n",
    "model.save('module_prediction_rnn_model')\n"
   ]
  },
  {
   "cell_type": "code",
   "execution_count": null,
   "id": "857bcef8",
   "metadata": {},
   "outputs": [],
   "source": []
  }
 ],
 "metadata": {
  "kernelspec": {
   "display_name": "Python 3 (ipykernel)",
   "language": "python",
   "name": "python3"
  },
  "language_info": {
   "codemirror_mode": {
    "name": "ipython",
    "version": 3
   },
   "file_extension": ".py",
   "mimetype": "text/x-python",
   "name": "python",
   "nbconvert_exporter": "python",
   "pygments_lexer": "ipython3",
   "version": "3.9.13"
  }
 },
 "nbformat": 4,
 "nbformat_minor": 5
}
